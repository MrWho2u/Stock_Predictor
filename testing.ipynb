{
 "cells": [
  {
   "cell_type": "code",
   "execution_count": null,
   "id": "bed376be-d463-4f28-b51a-2a4348b54977",
   "metadata": {},
   "outputs": [],
   "source": [
    "# needed for API\n",
    "import pandas as pd\n",
    "import numpy as np\n",
    "import datetime as dt\n",
    "import pandas_datareader as pdr\n",
    "import yfinance as yfin\n",
    "yfin.pdr_override()\n",
    "from dotenv import load_dotenv\n",
    "import os\n",
    "import json\n",
    "import requests\n",
    "\n",
    "def get_econ_data ():\n",
    "    # define data for DataReader\n",
    "    end = dt.date.today()\n",
    "    start= end - dt.timedelta(days=365*21)\n",
    "    start_str = start.strftime('%Y-%m-%d')\n",
    "    end_str = end.strftime('%Y-%m-%d')\n",
    "\n",
    "    # select tables, enter as dataframe\n",
    "    list_of_pct_tables = ['SOFR30DAYAVG', 'SOFR', 'EFFR', 'AAA', 'DBAA', 'T10YIE', 'T5YIE'\n",
    "    # AAA - BBB is spread\n",
    "    lisf_of_val_tables = ['SOFRVOL', 'USRECDM'\n",
    "    econ_df = pdr.DataReader(['GDPC1','UNRATE','DFF','EFFR','MORTGAGE30US','DTB3','PRIME','MICH','TOTALSA','UMCSENT','HOUST','RECPROUSM156N','REAINTRATREARAT1YE','REAINTRATREARAT10Y'], 'fred', start_str, end_str)\n",
    "    names = ['real gdp','unemployment','fed fund effective rate', 'effective fed fund rate', '30 year mortgage', '3t-bill market rate', 'prime bank loan rate', 'michigan inflaction pred', 'total car sales','cons sentiment','new housing','recession prob']\n",
    "    \n",
    "    #filling blank values with prior value\n",
    "    econ_df.fillna(method='ffill', inplace=True)\n",
    "    # calculate pct change\n",
    "    econ_df2 = econ_df.pct_change()\n",
    "    econ_df2['RECPROUSM156N']=econ_df['RECPROUSM156N']\n",
    "    econ_df = econ_df2\n",
    "    # seporate out daily metrics\n",
    "    daily_df = econ_df[['DFF', 'EFFR', 'DTB3']]\n",
    "    econ_df = econ_df.drop(columns=['DFF', 'EFFR', 'DTB3'])\n",
    "    # replace 0 values with null\n",
    "    econ_df.replace(0, np.nan, inplace=True)\n",
    "    # refill nulls with prior value\n",
    "    econ_df.fillna(method='ffill', inplace=True)\n",
    "        # add back in daily values\n",
    "    econ_df = pd.concat([daily_df, econ_df], axis=1)\n",
    "    # remove inf values\n",
    "    econ_df[np.isinf(econ_df)] = 0\n",
    "    # update index to date\n",
    "    econ_df.index = econ_df.index.date\n",
    "\n",
    "    return econ_df"
   ]
  }
 ],
 "metadata": {
  "kernelspec": {
   "display_name": "Python (dev)",
   "language": "python",
   "name": "dev"
  },
  "language_info": {
   "codemirror_mode": {
    "name": "ipython",
    "version": 3
   },
   "file_extension": ".py",
   "mimetype": "text/x-python",
   "name": "python",
   "nbconvert_exporter": "python",
   "pygments_lexer": "ipython3",
   "version": "3.9.13"
  }
 },
 "nbformat": 4,
 "nbformat_minor": 5
}
