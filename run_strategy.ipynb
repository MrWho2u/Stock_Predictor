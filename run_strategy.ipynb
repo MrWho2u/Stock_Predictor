{
 "cells": [
  {
   "cell_type": "code",
   "execution_count": null,
   "id": "19bf68b7-0b3b-4254-bb87-a804f37e54db",
   "metadata": {},
   "outputs": [],
   "source": [
    "# General packages\n",
    "import pandas as pd\n",
    "import numpy as np\n",
    "import hvplot.pandas\n",
    "import datetime as dt\n",
    "\n",
    "# Packages related to machine learning\n",
    "#for nueral networs\n",
    "import tensorflow as tf\n",
    "from tensorflow import keras\n",
    "from tensorflow.keras import layers\n",
    "from tensorflow.keras.models import Sequential\n",
    "from tensorflow.keras.layers import Dense\n",
    "from tensorflow.keras.optimizers import Adam\n",
    "import tensorflow.keras.backend as K\n",
    "\n",
    "# fix random seed for same reproducibility as my results due to stochastic nature of start point\n",
    "K.clear_session()\n",
    "tf.keras.backend.clear_session()\n",
    "np.random.seed(42)\n",
    "tf.random.set_seed(42)\n",
    "\n",
    "#turn off warning signs for cleaner code\n",
    "from warnings import filterwarnings\n",
    "filterwarnings(\"ignore\")\n",
    "\n",
    "# import modules\n",
    "from functions.vix_mod import vix_analysis\n",
    "from functions.spy_mod import spy_analysis\n",
    "from functions.econ_mod import get_econ_data\n",
    "from functions.sent_mod import market_sent\n",
    "from functions.create_train_test_mod import create_train_test_tables\n",
    "from functions.test_scaled_mod import scale_test\n",
    "from functions.train_scaled_mod import scale_train\n",
    "from functions.nn_model_mod import nn_reg_model\n",
    "from functions.nn_class_model_mod import nn_class_model"
   ]
  },
  {
   "cell_type": "code",
   "execution_count": 4,
   "id": "4af6300f-ae89-4dff-af20-9a89f31f9f81",
   "metadata": {},
   "outputs": [
    {
     "name": "stdout",
     "output_type": "stream",
     "text": [
      "[*********************100%***********************]  1 of 1 completed\n",
      "[*********************100%***********************]  1 of 1 completed\n",
      "data has been prepared\n"
     ]
    }
   ],
   "source": [
    "# Pull Data from APIs and divide into test and train datasets\n",
    "X_train, y_train, X_test, y_test, X_prep_train, X_prep_test = create_train_test_tables()\n",
    "print(\"data has been prepared\")"
   ]
  },
  {
   "cell_type": "code",
   "execution_count": 5,
   "id": "8ac871f1-6635-49f6-b56d-e3c7fae8711e",
   "metadata": {},
   "outputs": [
    {
     "name": "stdout",
     "output_type": "stream",
     "text": [
      "data has been scaled\n"
     ]
    }
   ],
   "source": [
    "# Scale the training and test data and divide into three groups based on high, low, average volatility\n",
    "# training\n",
    "X_train_scaled, X0_train_scaled, X1_train_scaled, X2_train_scaled, y_train, y0_train, y1_train, y2_train = scale_train(X_train, X_prep_train)\n",
    "# testing\n",
    "X_test_scaled, X0_test_scaled, X1_test_scaled, X2_test_scaled, y_test, y0_test, y1_test, y2_test = scale_test(X_train, X_test, X_prep_test)\n",
    "print(\"data has been scaled\")"
   ]
  },
  {
   "cell_type": "code",
   "execution_count": null,
   "id": "8db9f455-b46c-44ff-bff5-a6799718010c",
   "metadata": {},
   "outputs": [],
   "source": [
    "# regression model runs on a loop until desirable testing outcomes have been created\n",
    "saved_nn_model, nn_model = nn_reg_model(X_train_scaled, y_train)\n",
    "print(\"finished training regression model\")"
   ]
  },
  {
   "cell_type": "code",
   "execution_count": null,
   "id": "7afe2340-e7e5-4b24-ad08-68080586cd2e",
   "metadata": {},
   "outputs": [],
   "source": [
    "# classifier model runs on a loop until desirable testing outcomes have been created\n",
    "nn_class_fit, saved_nn_class_model = nn_class_model(X_train_scaled, X_prep_train)\n",
    "print(\"finished training classification model\")"
   ]
  },
  {
   "cell_type": "code",
   "execution_count": null,
   "id": "dc19c035-c6f0-42cb-b2b6-be742adec15f",
   "metadata": {},
   "outputs": [],
   "source": [
    "# predict results\n",
    "prediction1 = saved_nn_class_model.predict(X_test_scaled)\n",
    "prediction2 = saved_nn_class_model.predict(X_test_scaled)\n",
    "results_df = pd.DataFrame(prediction1, columns=['prediction_reg'], index = X_prep_test.index)\n",
    "results_df['prediction_class'] = prediction2\n",
    "results_df['real'] = X_prep_test['y']\n",
    "results_df['type_1_correct_reg'] = np.where((results_df['real']>=0) & (results_df['prediction_reg']>=0),1,0)\n",
    "results_df['type_2_correct_reg'] = np.where((results_df['real']<0) & (results_df['prediction_reg']<0),1,0)\n",
    "results_df['type_1_correct_class'] = np.where((results_df['real']>=0) & (results_df['prediction_class']>=.5),1,0)\n",
    "results_df['type_2_correct_class'] = np.where((results_df['real']<0) & (results_df['prediction_class']<.5),1,0)\n",
    "results_df['real_returns'] = (1+results_df['real']/100).cumprod() - 1\n",
    "results_df['strategy_returns'] = (1+(np.where(results_df['prediction_reg']>=0, 1,-.5)*(results_df['real']/100)+np.where(results_df['prediction_class']>=.5, 1,-.5)*(results_df['real']/100))).cumprod() - 1\n",
    "\n",
    "# Calculate accuracy and type 1 & 2 errors for regression\n",
    "accuracy_reg = round(((results_df['type_1_correct_reg'].sum()+results_df['type_2_correct_reg'].sum())/results_df['type_1_correct_reg'].count())*100,4)\n",
    "type1_reg = round((results_df['type_1_correct_reg'].sum()/results_df[results_df['real']>=0]['real'].count())*100,4)\n",
    "type2_reg = round((results_df['type_2_correct_reg'].sum()/results_df[results_df['real']<0]['real'].count())*100,4)\n",
    "# calculate accuracy and type 1 & 2 errors for classification\n",
    "accuracy_class = round(((results_df['type_1_correct_class'].sum()+results_df['type_2_correct_class'].sum())/results_df['type_1_correct_class'].count())*100,4)\n",
    "type1_class = round((results_df['type_1_correct_class'].sum()/results_df[results_df['real']>=0]['real'].count())*100,4)\n",
    "type2_class = round((results_df['type_2_correct_class'].sum()/results_df[results_df['real']<0]['real'].count())*100,4)\n",
    "\n",
    "#print results\n",
    "print(f'Our nural network regression model had total test accuracy of {accuracy_reg}%, with a type 1 accuracy of {type1_reg}% and a type 2 accuracy of {type2_reg}%.')\n",
    "print(f'Our nural network classification model had total test accuracy of {accuracy_class}%, with a type 1 accuracy of {type1_class}% and a type 2 accuracy of {type2_class}%.')\n",
    "display(results_df.tail())\n",
    "display(pd.DataFrame(nn_class_fit.history).tail())\n",
    "display(results_df.hvplot(y=['real_returns','strategy_returns'], title=\"Machine Learning Strategy Return vs Market\"))\n",
    "display(pd.DataFrame(nn_model.history)[['loss','val_loss']].hvplot(title = \"Mean Square Error Training (blue) vs. Mean Square Error Validation (red)\"))\n",
    "display(pd.DataFrame(nn_class_fit.history)[['loss','val_loss']].hvplot(title = \"Binary Crossentropy Training (blue) vs. Binary Crossentropy Validation (red)\"))"
   ]
  },
  {
   "cell_type": "code",
   "execution_count": null,
   "id": "1402c2e5-ab15-47d7-b0d5-5f2b61ef0211",
   "metadata": {},
   "outputs": [],
   "source": []
  }
 ],
 "metadata": {
  "kernelspec": {
   "display_name": "Python 3 (ipykernel)",
   "language": "python",
   "name": "python3"
  },
  "language_info": {
   "codemirror_mode": {
    "name": "ipython",
    "version": 3
   },
   "file_extension": ".py",
   "mimetype": "text/x-python",
   "name": "python",
   "nbconvert_exporter": "python",
   "pygments_lexer": "ipython3",
   "version": "3.9.13"
  }
 },
 "nbformat": 4,
 "nbformat_minor": 5
}
