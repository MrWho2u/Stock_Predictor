{
 "cells": [
  {
   "cell_type": "code",
   "execution_count": null,
   "id": "5e1072da-a819-4071-9802-b895ebb34693",
   "metadata": {},
   "outputs": [],
   "source": [
    "def econ_metrics ():\n",
    "    nd = dt.date.today()\n",
    "    start= end - dt.timedelta(days=365*10)\n",
    "    start_str = start.strftime('%Y-%m-%d')\n",
    "    end_str = end.strftime('%Y-%m-%d')\n",
    "    \n",
    "    load_dotenv('api.env')\n",
    "    fmp_key = os.getenv(\"API_KEY\")\n",
    "    \n",
    "    treasury_path = \"https://financialmodelingprep.com/api/v4/treasury?from=\"+start_str+\"&to\"+end_str+\"&apikey=\"+fmp_key\n",
    "    gdp_path = \"https://financialmodelingprep.com/api/v4/economic?name=GDP&\"+start_str+\"&to\"+end_str+\"&apikey=\"+fmp_key\n",
    "    fed_funds_path = \"https://financialmodelingprep.com/api/v4/economic?name=federalFunds&\"+start_str+\"&to\"+end_str+\"&apikey=\"+fmp_key\n",
    "    inf_rate_path = \"https://financialmodelingprep.com/api/v4/economic?name=inflationRates&\"+start_str+\"&to\"+end_str+\"&apikey=\"+fmp_key\n",
    "    inf_path = \"https://financialmodelingprep.com/api/v4/economic?name=inflation&\"+start_str+\"&to\"+end_str+\"&apikey=\"+fmp_key\n",
    "    sales_path = \"https://financialmodelingprep.com/api/v4/economic?name=retailSales&\"+start_str+\"&to\"+end_str+\"&apikey=\"+fmp_key\n",
    "    con_sentiment_path = \"https://financialmodelingprep.com/api/v4/economic?name=consumerSentiment&\"+start_str+\"&to\"+end_str+\"&apikey=\"+fmp_key\n",
    "    unemploy_path = \"https://financialmodelingprep.com/api/v4/economic?name=unemploymentRate&\"+start_str+\"&to\"+end_str+\"&apikey=\"+fmp_key\n",
    "    payroll_path = \"https://financialmodelingprep.com/api/v4/economic?name=totalNonfarmPayroll&\"+start_str+\"&to\"+end_str+\"&apikey=\"+fmp_key\n",
    "    new_housing_path = \"https://financialmodelingprep.com/api/v4/economic?name=newPrivatelyOwnedHousingUnitsStartedTotalUnits&\"+start_str+\"&to\"+end_str+\"&apikey=\"+fmp_key\n",
    "    auto_sale_path = \"https://financialmodelingprep.com/api/v4/economic?name=totalVehicleSales&\"+start_str+\"&to\"+end_str+\"&apikey=\"+fmp_key\n",
    "    auto_sale_path = \"https://financialmodelingprep.com/api/v4/economic?name=totalVehicleSales&\"+start_str+\"&to\"+end_str+\"&apikey=\"+fmp_key\n",
    "    recession_path = \"https://financialmodelingprep.com/api/v4/economic?name=smoothedUSRecessionProbabilities&\"+start_str+\"&to\"+end_str+\"&apikey=\"+fmp_key\n",
    "    mortgage15_path = \"https://financialmodelingprep.com/api/v4/economic?name=15YearFixedRateMortgageAverage&\"+start_str+\"&to\"+end_str+\"&apikey=\"+fmp_key\n",
    "    mortgage30_path = \"https://financialmodelingprep.com/api/v4/economic?name=30YearFixedRateMortgageAverage&\"+start_str+\"&to\"+end_str+\"&apikey=\"+fmp_key\n",
    "    \n",
    "    "
   ]
  }
 ],
 "metadata": {
  "kernelspec": {
   "display_name": "Python 3 (ipykernel)",
   "language": "python",
   "name": "python3"
  },
  "language_info": {
   "codemirror_mode": {
    "name": "ipython",
    "version": 3
   },
   "file_extension": ".py",
   "mimetype": "text/x-python",
   "name": "python",
   "nbconvert_exporter": "python",
   "pygments_lexer": "ipython3",
   "version": "3.9.13"
  }
 },
 "nbformat": 4,
 "nbformat_minor": 5
}
